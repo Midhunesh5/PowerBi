{
  "nbformat": 4,
  "nbformat_minor": 0,
  "metadata": {
    "colab": {
      "provenance": []
    },
    "kernelspec": {
      "name": "python3",
      "display_name": "Python 3"
    },
    "language_info": {
      "name": "python"
    }
  },
  "cells": [
    {
      "cell_type": "code",
      "execution_count": null,
      "metadata": {
        "id": "CFFbXwndfYUY"
      },
      "outputs": [],
      "source": [
        "import pandas as pd\n",
        "\n",
        "# Step 1: Load the CSV file\n",
        "file_path = \"BATTING STATS - IPL_2016.csv\"  # Replace with your actual file path\n",
        "df = pd.read_csv(file_path)\n",
        "\n",
        "# Step 2: Clean the \"HS\" Column (split into Highest Score and Not Out Indicator)\n",
        "# Split \"HS\" into numeric part and asterisk indicator\n",
        "df[['Highest_Score', 'Not_Out']] = df['HS'].str.split('*', expand=True)\n",
        "# Convert \"Highest_Score\" to numeric\n",
        "df['Highest_Score'] = pd.to_numeric(df['Highest_Score'], errors='coerce')\n",
        "# Replace \"Not_Out\" with 1 if asterisk was present, 0 if not\n",
        "df['Not_Out'] = df['Not_Out'].apply(lambda x: 1 if x == '' else 0)\n",
        "# Drop the original \"HS\" column\n",
        "df = df.drop(columns=['HS'])\n",
        "\n",
        "# Step 3: Set Data Types\n",
        "# Ensure numeric columns are correctly typed\n",
        "numeric_columns = ['POS', 'Mat', 'Inns', 'NO', 'Runs', 'Highest_Score', 'BF', '100', '50', '4s', '6s']\n",
        "for col in numeric_columns:\n",
        "    df[col] = pd.to_numeric(df[col], errors='coerce', downcast='integer')\n",
        "\n",
        "# \"Avg\" and \"SR\" as float (decimal)\n",
        "df['Avg'] = pd.to_numeric(df['Avg'], errors='coerce', downcast='float')\n",
        "df['SR'] = pd.to_numeric(df['SR'], errors='coerce', downcast='float')\n",
        "\n",
        "# \"Player\" remains as string (already default)\n",
        "\n",
        "# Step 4: Fix \"Avg\" Column (Recalculate if needed)\n",
        "# Recalculate Avg as Runs / (Inns - NO), handle division by zero\n",
        "df['Calculated_Avg'] = df.apply(\n",
        "    lambda row: row['Runs'] / (row['Inns'] - row['NO']) if (row['Inns'] - row['NO']) > 0 else None,\n",
        "    axis=1\n",
        ")\n",
        "# Compare with original \"Avg\" and replace if you want (optional)\n",
        "# For now, keep both columns; you can drop \"Avg\" later if \"Calculated_Avg\" is preferred\n",
        "# df['Avg'] = df['Calculated_Avg']  # Uncomment to replace original Avg\n",
        "\n",
        "# Step 5: Clean \"Player\" Column\n",
        "# Remove leading/trailing spaces and capitalize each word\n",
        "df['Player'] = df['Player'].str.strip().str.title()\n",
        "\n",
        "# Step 6: Rename Columns for Clarity\n",
        "df = df.rename(columns={\n",
        "    'POS': 'Position',\n",
        "    'Mat': 'Matches',\n",
        "    'Inns': 'Innings',\n",
        "    'NO': 'Not_Outs',\n",
        "    'Runs': 'Total_Runs',\n",
        "    'Avg': 'Batting_Average',\n",
        "    'BF': 'Balls_Faced',\n",
        "    'SR': 'Strike_Rate',\n",
        "    '100': 'Centuries',\n",
        "    '50': 'Fifties',\n",
        "    '4s': 'Fours',\n",
        "    '6s': 'Sixes'\n",
        "})\n",
        "\n",
        "# Step 7: Check for Errors (Optional Validation)\n",
        "# Replace NaN with 0 or leave as is depending on your preference\n",
        "# For now, leave NaN as is for Power BI to handle\n",
        "# df = df.fillna(0)  # Uncomment to replace NaN with 0\n",
        "\n",
        "# Step 8: Save the Cleaned Data to a New CSV\n",
        "output_file = \"cleaned_cricket_stats.csv\"\n",
        "df.to_csv(output_file, index=False)\n",
        "\n",
        "print(\"Data cleaning complete. Cleaned file saved as:\", output_file)\n",
        "\n",
        "# Optional: Display the first few rows to verify\n",
        "print(df.head())"
      ]
    }
  ]
}